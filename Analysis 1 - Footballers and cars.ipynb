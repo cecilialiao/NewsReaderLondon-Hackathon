{
 "metadata": {
  "name": ""
 },
 "nbformat": 3,
 "nbformat_minor": 0,
 "worksheets": [
  {
   "cells": [
    {
     "cell_type": "raw",
     "metadata": {},
     "source": [
      "NewsReader London Hackathon \n",
      "Team: Fail fast, fail often\n",
      "Analysis 1: What cars do footballers have?\n",
      "Steps:\n",
      "1) Find all events that are related to cars (dbo:Automobile) using ScraperWiki's API \n",
      "2) Find all actors who are footballers (dbo:SoccerPlayer) using ScraperWiki's API\n",
      "3) Find union of events from steps (1) and (2). \n",
      "4) Analyse results from step (3) to interpret what cars do footballers have."
     ]
    },
    {
     "cell_type": "code",
     "collapsed": false,
     "input": [
      "import requests"
     ],
     "language": "python",
     "metadata": {},
     "outputs": [],
     "prompt_number": 1
    },
    {
     "cell_type": "code",
     "collapsed": false,
     "input": [
      "r = requests.get('https://newsreader.scraperwiki.com/summary_of_events_with_actor_type?uris.0=dbo:Automobile&output=json')\n",
      "automobile_events = r.json()['payload']"
     ],
     "language": "python",
     "metadata": {},
     "outputs": [],
     "prompt_number": 23
    },
    {
     "cell_type": "raw",
     "metadata": {},
     "source": [
      "Get all events that relate to dbo:Automobile\n",
      "\n",
      "Each event is a dict of actor, datetime, event, and event_size, eg.:\n",
      "{u'actor': u'http://dbpedia.org/resource/Chevrolet_Caprice',\n",
      " u'datetime': u'1999-11-18',\n",
      " u'event': u'http://www.theguardian.com/football/1999/nov/18/thefiver.sport#standEvent',\n",
      " u'event_size': u'15'}"
     ]
    },
    {
     "cell_type": "code",
     "collapsed": false,
     "input": [
      "# Getting all events that relate to dbo:Automobile\n",
      "r = requests.get('https://newsreader.scraperwiki.com/summary_of_events_with_actor_type?uris.0=dbo:Automobile&output=json')\n",
      "automobile_events = r.json()['payload']\n",
      "\n",
      "while True:\n",
      "    next_url = r.json()['next page']\n",
      "    r = requests.get(next_url)\n",
      "    try:\n",
      "        automobile_events.extend(r.json()['payload'])\n",
      "        print str(len(automobile_events))+' records saved'\n",
      "    except:\n",
      "        print \"done\"\n",
      "        break    "
     ],
     "language": "python",
     "metadata": {},
     "outputs": [
      {
       "output_type": "stream",
       "stream": "stdout",
       "text": [
        "40 records saved\n",
        "60 records saved"
       ]
      },
      {
       "output_type": "stream",
       "stream": "stdout",
       "text": [
        "\n",
        "80 records saved"
       ]
      },
      {
       "output_type": "stream",
       "stream": "stdout",
       "text": [
        "\n",
        "100 records saved"
       ]
      },
      {
       "output_type": "stream",
       "stream": "stdout",
       "text": [
        "\n",
        "120 records saved"
       ]
      },
      {
       "output_type": "stream",
       "stream": "stdout",
       "text": [
        "\n",
        "140 records saved"
       ]
      },
      {
       "output_type": "stream",
       "stream": "stdout",
       "text": [
        "\n",
        "160 records saved"
       ]
      },
      {
       "output_type": "stream",
       "stream": "stdout",
       "text": [
        "\n",
        "180 records saved"
       ]
      },
      {
       "output_type": "stream",
       "stream": "stdout",
       "text": [
        "\n",
        "200 records saved"
       ]
      },
      {
       "output_type": "stream",
       "stream": "stdout",
       "text": [
        "\n",
        "220 records saved"
       ]
      },
      {
       "output_type": "stream",
       "stream": "stdout",
       "text": [
        "\n",
        "240 records saved"
       ]
      },
      {
       "output_type": "stream",
       "stream": "stdout",
       "text": [
        "\n",
        "260 records saved"
       ]
      },
      {
       "output_type": "stream",
       "stream": "stdout",
       "text": [
        "\n",
        "280 records saved"
       ]
      },
      {
       "output_type": "stream",
       "stream": "stdout",
       "text": [
        "\n",
        "300 records saved"
       ]
      },
      {
       "output_type": "stream",
       "stream": "stdout",
       "text": [
        "\n",
        "320 records saved"
       ]
      },
      {
       "output_type": "stream",
       "stream": "stdout",
       "text": [
        "\n",
        "340 records saved"
       ]
      },
      {
       "output_type": "stream",
       "stream": "stdout",
       "text": [
        "\n",
        "360 records saved"
       ]
      },
      {
       "output_type": "stream",
       "stream": "stdout",
       "text": [
        "\n",
        "380 records saved"
       ]
      },
      {
       "output_type": "stream",
       "stream": "stdout",
       "text": [
        "\n",
        "400 records saved"
       ]
      },
      {
       "output_type": "stream",
       "stream": "stdout",
       "text": [
        "\n",
        "420 records saved"
       ]
      },
      {
       "output_type": "stream",
       "stream": "stdout",
       "text": [
        "\n",
        "440 records saved"
       ]
      },
      {
       "output_type": "stream",
       "stream": "stdout",
       "text": [
        "\n",
        "460 records saved"
       ]
      },
      {
       "output_type": "stream",
       "stream": "stdout",
       "text": [
        "\n",
        "480 records saved"
       ]
      },
      {
       "output_type": "stream",
       "stream": "stdout",
       "text": [
        "\n",
        "500 records saved"
       ]
      },
      {
       "output_type": "stream",
       "stream": "stdout",
       "text": [
        "\n",
        "520 records saved"
       ]
      },
      {
       "output_type": "stream",
       "stream": "stdout",
       "text": [
        "\n",
        "540 records saved"
       ]
      },
      {
       "output_type": "stream",
       "stream": "stdout",
       "text": [
        "\n",
        "560 records saved"
       ]
      },
      {
       "output_type": "stream",
       "stream": "stdout",
       "text": [
        "\n",
        "580 records saved"
       ]
      },
      {
       "output_type": "stream",
       "stream": "stdout",
       "text": [
        "\n",
        "600 records saved"
       ]
      },
      {
       "output_type": "stream",
       "stream": "stdout",
       "text": [
        "\n",
        "620 records saved"
       ]
      },
      {
       "output_type": "stream",
       "stream": "stdout",
       "text": [
        "\n",
        "640 records saved"
       ]
      },
      {
       "output_type": "stream",
       "stream": "stdout",
       "text": [
        "\n",
        "660 records saved"
       ]
      },
      {
       "output_type": "stream",
       "stream": "stdout",
       "text": [
        "\n",
        "680 records saved"
       ]
      },
      {
       "output_type": "stream",
       "stream": "stdout",
       "text": [
        "\n",
        "700 records saved"
       ]
      },
      {
       "output_type": "stream",
       "stream": "stdout",
       "text": [
        "\n",
        "720 records saved"
       ]
      },
      {
       "output_type": "stream",
       "stream": "stdout",
       "text": [
        "\n",
        "740 records saved"
       ]
      },
      {
       "output_type": "stream",
       "stream": "stdout",
       "text": [
        "\n",
        "760 records saved"
       ]
      },
      {
       "output_type": "stream",
       "stream": "stdout",
       "text": [
        "\n",
        "780 records saved"
       ]
      },
      {
       "output_type": "stream",
       "stream": "stdout",
       "text": [
        "\n",
        "800 records saved"
       ]
      },
      {
       "output_type": "stream",
       "stream": "stdout",
       "text": [
        "\n",
        "820 records saved"
       ]
      },
      {
       "output_type": "stream",
       "stream": "stdout",
       "text": [
        "\n",
        "840 records saved"
       ]
      },
      {
       "output_type": "stream",
       "stream": "stdout",
       "text": [
        "\n",
        "860 records saved"
       ]
      },
      {
       "output_type": "stream",
       "stream": "stdout",
       "text": [
        "\n",
        "880 records saved"
       ]
      },
      {
       "output_type": "stream",
       "stream": "stdout",
       "text": [
        "\n",
        "900 records saved"
       ]
      },
      {
       "output_type": "stream",
       "stream": "stdout",
       "text": [
        "\n",
        "920 records saved"
       ]
      },
      {
       "output_type": "stream",
       "stream": "stdout",
       "text": [
        "\n",
        "940 records saved"
       ]
      },
      {
       "output_type": "stream",
       "stream": "stdout",
       "text": [
        "\n",
        "960 records saved"
       ]
      },
      {
       "output_type": "stream",
       "stream": "stdout",
       "text": [
        "\n",
        "980 records saved"
       ]
      },
      {
       "output_type": "stream",
       "stream": "stdout",
       "text": [
        "\n",
        "1000 records saved"
       ]
      },
      {
       "output_type": "stream",
       "stream": "stdout",
       "text": [
        "\n",
        "1020 records saved"
       ]
      },
      {
       "output_type": "stream",
       "stream": "stdout",
       "text": [
        "\n",
        "1040 records saved"
       ]
      },
      {
       "output_type": "stream",
       "stream": "stdout",
       "text": [
        "\n",
        "1060 records saved"
       ]
      },
      {
       "output_type": "stream",
       "stream": "stdout",
       "text": [
        "\n",
        "1080 records saved"
       ]
      },
      {
       "output_type": "stream",
       "stream": "stdout",
       "text": [
        "\n",
        "1100 records saved"
       ]
      },
      {
       "output_type": "stream",
       "stream": "stdout",
       "text": [
        "\n",
        "1120 records saved"
       ]
      },
      {
       "output_type": "stream",
       "stream": "stdout",
       "text": [
        "\n",
        "1140 records saved"
       ]
      },
      {
       "output_type": "stream",
       "stream": "stdout",
       "text": [
        "\n",
        "1160 records saved"
       ]
      },
      {
       "output_type": "stream",
       "stream": "stdout",
       "text": [
        "\n",
        "1180 records saved"
       ]
      },
      {
       "output_type": "stream",
       "stream": "stdout",
       "text": [
        "\n",
        "1200 records saved"
       ]
      },
      {
       "output_type": "stream",
       "stream": "stdout",
       "text": [
        "\n",
        "1220 records saved"
       ]
      },
      {
       "output_type": "stream",
       "stream": "stdout",
       "text": [
        "\n",
        "1240 records saved"
       ]
      },
      {
       "output_type": "stream",
       "stream": "stdout",
       "text": [
        "\n",
        "1260 records saved"
       ]
      },
      {
       "output_type": "stream",
       "stream": "stdout",
       "text": [
        "\n",
        "1280 records saved"
       ]
      },
      {
       "output_type": "stream",
       "stream": "stdout",
       "text": [
        "\n",
        "1300 records saved"
       ]
      },
      {
       "output_type": "stream",
       "stream": "stdout",
       "text": [
        "\n",
        "1320 records saved"
       ]
      },
      {
       "output_type": "stream",
       "stream": "stdout",
       "text": [
        "\n",
        "1340 records saved"
       ]
      },
      {
       "output_type": "stream",
       "stream": "stdout",
       "text": [
        "\n",
        "1360 records saved"
       ]
      },
      {
       "output_type": "stream",
       "stream": "stdout",
       "text": [
        "\n",
        "1380 records saved"
       ]
      },
      {
       "output_type": "stream",
       "stream": "stdout",
       "text": [
        "\n",
        "1400 records saved"
       ]
      },
      {
       "output_type": "stream",
       "stream": "stdout",
       "text": [
        "\n",
        "1420 records saved"
       ]
      },
      {
       "output_type": "stream",
       "stream": "stdout",
       "text": [
        "\n",
        "1440 records saved"
       ]
      },
      {
       "output_type": "stream",
       "stream": "stdout",
       "text": [
        "\n",
        "1460 records saved"
       ]
      },
      {
       "output_type": "stream",
       "stream": "stdout",
       "text": [
        "\n",
        "1480 records saved"
       ]
      },
      {
       "output_type": "stream",
       "stream": "stdout",
       "text": [
        "\n",
        "1500 records saved"
       ]
      },
      {
       "output_type": "stream",
       "stream": "stdout",
       "text": [
        "\n",
        "1520 records saved"
       ]
      },
      {
       "output_type": "stream",
       "stream": "stdout",
       "text": [
        "\n",
        "1540 records saved"
       ]
      },
      {
       "output_type": "stream",
       "stream": "stdout",
       "text": [
        "\n",
        "1548 records saved"
       ]
      },
      {
       "output_type": "stream",
       "stream": "stdout",
       "text": [
        "\n"
       ]
      }
     ],
     "prompt_number": 34
    },
    {
     "cell_type": "raw",
     "metadata": {},
     "source": [
      "Get all actors that are dbo:Soccerplayer\n",
      "\n",
      "Each actor is a dict of actor, comment, and count:\n",
      "{u'actor': u'http://dbpedia.org/resource/David_Beckham',\n",
      " u'comment': u\"David Robert Joseph Beckham, OBE (born 2 May 1975) is an English footballer who currently plays for French Ligue 1 club Paris Saint-Germain. He has played for Manchester United, Preston North End, Real Madrid, Milan, Los Angeles Galaxy and the England national team for which he holds the appearance record for an outfield player. Beckham's professional career began with Manchester United, making his first-team debut in 1992 aged 17.\",\n",
      " u'count': u'19596'}"
     ]
    },
    {
     "cell_type": "code",
     "collapsed": false,
     "input": [
      "# Getting all actors that are dbo:SoccerPlayer\n",
      "r = requests.get('https://newsreader.scraperwiki.com/actors_of_a_type?uris.0=dbo:SoccerPlayer&output=json')\n",
      "soccer_players_events = r.json()['payload']\n",
      "\n",
      "while True:\n",
      "    next_url = r.json()['next page']\n",
      "    r = requests.get(next_url)\n",
      "    try:\n",
      "        soccer_players_events.extend(r.json()['payload'])\n",
      "        print str(len(soccer_players_events))+' records saved'\n",
      "    except:\n",
      "        print \"done\"\n",
      "        break    "
     ],
     "language": "python",
     "metadata": {},
     "outputs": [
      {
       "output_type": "stream",
       "stream": "stdout",
       "text": [
        "40 records saved\n",
        "60 records saved"
       ]
      },
      {
       "output_type": "stream",
       "stream": "stdout",
       "text": [
        "\n",
        "80 records saved"
       ]
      },
      {
       "output_type": "stream",
       "stream": "stdout",
       "text": [
        "\n",
        "100 records saved"
       ]
      },
      {
       "output_type": "stream",
       "stream": "stdout",
       "text": [
        "\n",
        "120 records saved"
       ]
      },
      {
       "output_type": "stream",
       "stream": "stdout",
       "text": [
        "\n",
        "140 records saved"
       ]
      },
      {
       "output_type": "stream",
       "stream": "stdout",
       "text": [
        "\n",
        "160 records saved"
       ]
      },
      {
       "output_type": "stream",
       "stream": "stdout",
       "text": [
        "\n",
        "180 records saved"
       ]
      },
      {
       "output_type": "stream",
       "stream": "stdout",
       "text": [
        "\n",
        "200 records saved"
       ]
      },
      {
       "output_type": "stream",
       "stream": "stdout",
       "text": [
        "\n",
        "220 records saved"
       ]
      },
      {
       "output_type": "stream",
       "stream": "stdout",
       "text": [
        "\n",
        "240 records saved"
       ]
      },
      {
       "output_type": "stream",
       "stream": "stdout",
       "text": [
        "\n",
        "260 records saved"
       ]
      },
      {
       "output_type": "stream",
       "stream": "stdout",
       "text": [
        "\n",
        "280 records saved"
       ]
      },
      {
       "output_type": "stream",
       "stream": "stdout",
       "text": [
        "\n",
        "300 records saved"
       ]
      },
      {
       "output_type": "stream",
       "stream": "stdout",
       "text": [
        "\n",
        "320 records saved"
       ]
      },
      {
       "output_type": "stream",
       "stream": "stdout",
       "text": [
        "\n",
        "340 records saved"
       ]
      },
      {
       "output_type": "stream",
       "stream": "stdout",
       "text": [
        "\n",
        "360 records saved"
       ]
      },
      {
       "output_type": "stream",
       "stream": "stdout",
       "text": [
        "\n",
        "380 records saved"
       ]
      },
      {
       "output_type": "stream",
       "stream": "stdout",
       "text": [
        "\n",
        "400 records saved"
       ]
      },
      {
       "output_type": "stream",
       "stream": "stdout",
       "text": [
        "\n",
        "420 records saved"
       ]
      },
      {
       "output_type": "stream",
       "stream": "stdout",
       "text": [
        "\n",
        "440 records saved"
       ]
      },
      {
       "output_type": "stream",
       "stream": "stdout",
       "text": [
        "\n",
        "460 records saved"
       ]
      },
      {
       "output_type": "stream",
       "stream": "stdout",
       "text": [
        "\n",
        "480 records saved"
       ]
      },
      {
       "output_type": "stream",
       "stream": "stdout",
       "text": [
        "\n",
        "500 records saved"
       ]
      },
      {
       "output_type": "stream",
       "stream": "stdout",
       "text": [
        "\n",
        "520 records saved"
       ]
      },
      {
       "output_type": "stream",
       "stream": "stdout",
       "text": [
        "\n",
        "540 records saved"
       ]
      },
      {
       "output_type": "stream",
       "stream": "stdout",
       "text": [
        "\n",
        "560 records saved"
       ]
      },
      {
       "output_type": "stream",
       "stream": "stdout",
       "text": [
        "\n",
        "580 records saved"
       ]
      },
      {
       "output_type": "stream",
       "stream": "stdout",
       "text": [
        "\n",
        "600 records saved"
       ]
      },
      {
       "output_type": "stream",
       "stream": "stdout",
       "text": [
        "\n",
        "620 records saved"
       ]
      },
      {
       "output_type": "stream",
       "stream": "stdout",
       "text": [
        "\n",
        "640 records saved"
       ]
      },
      {
       "output_type": "stream",
       "stream": "stdout",
       "text": [
        "\n",
        "660 records saved"
       ]
      },
      {
       "output_type": "stream",
       "stream": "stdout",
       "text": [
        "\n",
        "680 records saved"
       ]
      },
      {
       "output_type": "stream",
       "stream": "stdout",
       "text": [
        "\n",
        "700 records saved"
       ]
      },
      {
       "output_type": "stream",
       "stream": "stdout",
       "text": [
        "\n",
        "720 records saved"
       ]
      },
      {
       "output_type": "stream",
       "stream": "stdout",
       "text": [
        "\n",
        "740 records saved"
       ]
      },
      {
       "output_type": "stream",
       "stream": "stdout",
       "text": [
        "\n",
        "760 records saved"
       ]
      },
      {
       "output_type": "stream",
       "stream": "stdout",
       "text": [
        "\n",
        "780 records saved"
       ]
      },
      {
       "output_type": "stream",
       "stream": "stdout",
       "text": [
        "\n",
        "800 records saved"
       ]
      },
      {
       "output_type": "stream",
       "stream": "stdout",
       "text": [
        "\n",
        "820 records saved"
       ]
      },
      {
       "output_type": "stream",
       "stream": "stdout",
       "text": [
        "\n",
        "840 records saved"
       ]
      },
      {
       "output_type": "stream",
       "stream": "stdout",
       "text": [
        "\n",
        "860 records saved"
       ]
      },
      {
       "output_type": "stream",
       "stream": "stdout",
       "text": [
        "\n",
        "880 records saved"
       ]
      },
      {
       "output_type": "stream",
       "stream": "stdout",
       "text": [
        "\n",
        "900 records saved"
       ]
      },
      {
       "output_type": "stream",
       "stream": "stdout",
       "text": [
        "\n",
        "920 records saved"
       ]
      },
      {
       "output_type": "stream",
       "stream": "stdout",
       "text": [
        "\n",
        "940 records saved"
       ]
      },
      {
       "output_type": "stream",
       "stream": "stdout",
       "text": [
        "\n",
        "960 records saved"
       ]
      },
      {
       "output_type": "stream",
       "stream": "stdout",
       "text": [
        "\n",
        "980 records saved"
       ]
      },
      {
       "output_type": "stream",
       "stream": "stdout",
       "text": [
        "\n",
        "1000 records saved"
       ]
      },
      {
       "output_type": "stream",
       "stream": "stdout",
       "text": [
        "\n",
        "1020 records saved"
       ]
      },
      {
       "output_type": "stream",
       "stream": "stdout",
       "text": [
        "\n",
        "1040 records saved"
       ]
      },
      {
       "output_type": "stream",
       "stream": "stdout",
       "text": [
        "\n",
        "1060 records saved"
       ]
      },
      {
       "output_type": "stream",
       "stream": "stdout",
       "text": [
        "\n",
        "1080 records saved"
       ]
      },
      {
       "output_type": "stream",
       "stream": "stdout",
       "text": [
        "\n",
        "1100 records saved"
       ]
      },
      {
       "output_type": "stream",
       "stream": "stdout",
       "text": [
        "\n",
        "1120 records saved"
       ]
      },
      {
       "output_type": "stream",
       "stream": "stdout",
       "text": [
        "\n",
        "1140 records saved"
       ]
      },
      {
       "output_type": "stream",
       "stream": "stdout",
       "text": [
        "\n",
        "1160 records saved"
       ]
      },
      {
       "output_type": "stream",
       "stream": "stdout",
       "text": [
        "\n",
        "1180 records saved"
       ]
      },
      {
       "output_type": "stream",
       "stream": "stdout",
       "text": [
        "\n",
        "1200 records saved"
       ]
      },
      {
       "output_type": "stream",
       "stream": "stdout",
       "text": [
        "\n",
        "1220 records saved"
       ]
      },
      {
       "output_type": "stream",
       "stream": "stdout",
       "text": [
        "\n",
        "1240 records saved"
       ]
      },
      {
       "output_type": "stream",
       "stream": "stdout",
       "text": [
        "\n",
        "1260 records saved"
       ]
      },
      {
       "output_type": "stream",
       "stream": "stdout",
       "text": [
        "\n",
        "1280 records saved"
       ]
      },
      {
       "output_type": "stream",
       "stream": "stdout",
       "text": [
        "\n",
        "1300 records saved"
       ]
      },
      {
       "output_type": "stream",
       "stream": "stdout",
       "text": [
        "\n",
        "1320 records saved"
       ]
      },
      {
       "output_type": "stream",
       "stream": "stdout",
       "text": [
        "\n",
        "1340 records saved"
       ]
      },
      {
       "output_type": "stream",
       "stream": "stdout",
       "text": [
        "\n",
        "1360 records saved"
       ]
      },
      {
       "output_type": "stream",
       "stream": "stdout",
       "text": [
        "\n",
        "1380 records saved"
       ]
      },
      {
       "output_type": "stream",
       "stream": "stdout",
       "text": [
        "\n",
        "1400 records saved"
       ]
      },
      {
       "output_type": "stream",
       "stream": "stdout",
       "text": [
        "\n",
        "1420 records saved"
       ]
      },
      {
       "output_type": "stream",
       "stream": "stdout",
       "text": [
        "\n",
        "1440 records saved"
       ]
      },
      {
       "output_type": "stream",
       "stream": "stdout",
       "text": [
        "\n",
        "1460 records saved"
       ]
      },
      {
       "output_type": "stream",
       "stream": "stdout",
       "text": [
        "\n",
        "1480 records saved"
       ]
      },
      {
       "output_type": "stream",
       "stream": "stdout",
       "text": [
        "\n",
        "1500 records saved"
       ]
      },
      {
       "output_type": "stream",
       "stream": "stdout",
       "text": [
        "\n",
        "1520 records saved"
       ]
      },
      {
       "output_type": "stream",
       "stream": "stdout",
       "text": [
        "\n",
        "1540 records saved"
       ]
      },
      {
       "output_type": "stream",
       "stream": "stdout",
       "text": [
        "\n",
        "1560 records saved"
       ]
      },
      {
       "output_type": "stream",
       "stream": "stdout",
       "text": [
        "\n",
        "1580 records saved"
       ]
      },
      {
       "output_type": "stream",
       "stream": "stdout",
       "text": [
        "\n",
        "1600 records saved"
       ]
      },
      {
       "output_type": "stream",
       "stream": "stdout",
       "text": [
        "\n",
        "1620 records saved"
       ]
      },
      {
       "output_type": "stream",
       "stream": "stdout",
       "text": [
        "\n",
        "1640 records saved"
       ]
      },
      {
       "output_type": "stream",
       "stream": "stdout",
       "text": [
        "\n",
        "1660 records saved"
       ]
      },
      {
       "output_type": "stream",
       "stream": "stdout",
       "text": [
        "\n",
        "1680 records saved"
       ]
      },
      {
       "output_type": "stream",
       "stream": "stdout",
       "text": [
        "\n",
        "1700 records saved"
       ]
      },
      {
       "output_type": "stream",
       "stream": "stdout",
       "text": [
        "\n",
        "1720 records saved"
       ]
      },
      {
       "output_type": "stream",
       "stream": "stdout",
       "text": [
        "\n",
        "1740 records saved"
       ]
      },
      {
       "output_type": "stream",
       "stream": "stdout",
       "text": [
        "\n",
        "1760 records saved"
       ]
      },
      {
       "output_type": "stream",
       "stream": "stdout",
       "text": [
        "\n",
        "1780 records saved"
       ]
      },
      {
       "output_type": "stream",
       "stream": "stdout",
       "text": [
        "\n",
        "1800 records saved"
       ]
      },
      {
       "output_type": "stream",
       "stream": "stdout",
       "text": [
        "\n",
        "1820 records saved"
       ]
      },
      {
       "output_type": "stream",
       "stream": "stdout",
       "text": [
        "\n",
        "1840 records saved"
       ]
      },
      {
       "output_type": "stream",
       "stream": "stdout",
       "text": [
        "\n",
        "1860 records saved"
       ]
      },
      {
       "output_type": "stream",
       "stream": "stdout",
       "text": [
        "\n",
        "1880 records saved"
       ]
      },
      {
       "output_type": "stream",
       "stream": "stdout",
       "text": [
        "\n",
        "1900 records saved"
       ]
      },
      {
       "output_type": "stream",
       "stream": "stdout",
       "text": [
        "\n",
        "1920 records saved"
       ]
      },
      {
       "output_type": "stream",
       "stream": "stdout",
       "text": [
        "\n",
        "1940 records saved"
       ]
      },
      {
       "output_type": "stream",
       "stream": "stdout",
       "text": [
        "\n",
        "1960 records saved"
       ]
      },
      {
       "output_type": "stream",
       "stream": "stdout",
       "text": [
        "\n",
        "1980 records saved"
       ]
      },
      {
       "output_type": "stream",
       "stream": "stdout",
       "text": [
        "\n",
        "2000 records saved"
       ]
      },
      {
       "output_type": "stream",
       "stream": "stdout",
       "text": [
        "\n",
        "2020 records saved"
       ]
      },
      {
       "output_type": "stream",
       "stream": "stdout",
       "text": [
        "\n",
        "2040 records saved"
       ]
      },
      {
       "output_type": "stream",
       "stream": "stdout",
       "text": [
        "\n",
        "2060 records saved"
       ]
      },
      {
       "output_type": "stream",
       "stream": "stdout",
       "text": [
        "\n",
        "2080 records saved"
       ]
      },
      {
       "output_type": "stream",
       "stream": "stdout",
       "text": [
        "\n",
        "2100 records saved"
       ]
      },
      {
       "output_type": "stream",
       "stream": "stdout",
       "text": [
        "\n",
        "2120 records saved"
       ]
      },
      {
       "output_type": "stream",
       "stream": "stdout",
       "text": [
        "\n",
        "2140 records saved"
       ]
      },
      {
       "output_type": "stream",
       "stream": "stdout",
       "text": [
        "\n",
        "2160 records saved"
       ]
      },
      {
       "output_type": "stream",
       "stream": "stdout",
       "text": [
        "\n",
        "2180 records saved"
       ]
      },
      {
       "output_type": "stream",
       "stream": "stdout",
       "text": [
        "\n",
        "2200 records saved"
       ]
      },
      {
       "output_type": "stream",
       "stream": "stdout",
       "text": [
        "\n",
        "2220 records saved"
       ]
      },
      {
       "output_type": "stream",
       "stream": "stdout",
       "text": [
        "\n",
        "2240 records saved"
       ]
      },
      {
       "output_type": "stream",
       "stream": "stdout",
       "text": [
        "\n",
        "2260 records saved"
       ]
      },
      {
       "output_type": "stream",
       "stream": "stdout",
       "text": [
        "\n",
        "2280 records saved"
       ]
      },
      {
       "output_type": "stream",
       "stream": "stdout",
       "text": [
        "\n",
        "2300 records saved"
       ]
      },
      {
       "output_type": "stream",
       "stream": "stdout",
       "text": [
        "\n",
        "2320 records saved"
       ]
      },
      {
       "output_type": "stream",
       "stream": "stdout",
       "text": [
        "\n",
        "2340 records saved"
       ]
      },
      {
       "output_type": "stream",
       "stream": "stdout",
       "text": [
        "\n",
        "2360 records saved"
       ]
      },
      {
       "output_type": "stream",
       "stream": "stdout",
       "text": [
        "\n",
        "2380 records saved"
       ]
      },
      {
       "output_type": "stream",
       "stream": "stdout",
       "text": [
        "\n",
        "2400 records saved"
       ]
      },
      {
       "output_type": "stream",
       "stream": "stdout",
       "text": [
        "\n",
        "2420 records saved"
       ]
      },
      {
       "output_type": "stream",
       "stream": "stdout",
       "text": [
        "\n",
        "2440 records saved"
       ]
      },
      {
       "output_type": "stream",
       "stream": "stdout",
       "text": [
        "\n",
        "2460 records saved"
       ]
      },
      {
       "output_type": "stream",
       "stream": "stdout",
       "text": [
        "\n",
        "2480 records saved"
       ]
      },
      {
       "output_type": "stream",
       "stream": "stdout",
       "text": [
        "\n",
        "2500 records saved"
       ]
      },
      {
       "output_type": "stream",
       "stream": "stdout",
       "text": [
        "\n",
        "2520 records saved"
       ]
      },
      {
       "output_type": "stream",
       "stream": "stdout",
       "text": [
        "\n",
        "2540 records saved"
       ]
      },
      {
       "output_type": "stream",
       "stream": "stdout",
       "text": [
        "\n",
        "2560 records saved"
       ]
      },
      {
       "output_type": "stream",
       "stream": "stdout",
       "text": [
        "\n",
        "2580 records saved"
       ]
      },
      {
       "output_type": "stream",
       "stream": "stdout",
       "text": [
        "\n",
        "2600 records saved"
       ]
      },
      {
       "output_type": "stream",
       "stream": "stdout",
       "text": [
        "\n",
        "2620 records saved"
       ]
      },
      {
       "output_type": "stream",
       "stream": "stdout",
       "text": [
        "\n",
        "2640 records saved"
       ]
      },
      {
       "output_type": "stream",
       "stream": "stdout",
       "text": [
        "\n",
        "2660 records saved"
       ]
      },
      {
       "output_type": "stream",
       "stream": "stdout",
       "text": [
        "\n",
        "2680 records saved"
       ]
      },
      {
       "output_type": "stream",
       "stream": "stdout",
       "text": [
        "\n",
        "2700 records saved"
       ]
      },
      {
       "output_type": "stream",
       "stream": "stdout",
       "text": [
        "\n",
        "2720 records saved"
       ]
      },
      {
       "output_type": "stream",
       "stream": "stdout",
       "text": [
        "\n",
        "2740 records saved"
       ]
      },
      {
       "output_type": "stream",
       "stream": "stdout",
       "text": [
        "\n",
        "2760 records saved"
       ]
      },
      {
       "output_type": "stream",
       "stream": "stdout",
       "text": [
        "\n",
        "2780 records saved"
       ]
      },
      {
       "output_type": "stream",
       "stream": "stdout",
       "text": [
        "\n",
        "2800 records saved"
       ]
      },
      {
       "output_type": "stream",
       "stream": "stdout",
       "text": [
        "\n",
        "2820 records saved"
       ]
      },
      {
       "output_type": "stream",
       "stream": "stdout",
       "text": [
        "\n",
        "2840 records saved"
       ]
      },
      {
       "output_type": "stream",
       "stream": "stdout",
       "text": [
        "\n",
        "2860 records saved"
       ]
      },
      {
       "output_type": "stream",
       "stream": "stdout",
       "text": [
        "\n",
        "2880 records saved"
       ]
      },
      {
       "output_type": "stream",
       "stream": "stdout",
       "text": [
        "\n",
        "2900 records saved"
       ]
      },
      {
       "output_type": "stream",
       "stream": "stdout",
       "text": [
        "\n",
        "2920 records saved"
       ]
      },
      {
       "output_type": "stream",
       "stream": "stdout",
       "text": [
        "\n",
        "2940 records saved"
       ]
      },
      {
       "output_type": "stream",
       "stream": "stdout",
       "text": [
        "\n",
        "2960 records saved"
       ]
      },
      {
       "output_type": "stream",
       "stream": "stdout",
       "text": [
        "\n",
        "2980 records saved"
       ]
      },
      {
       "output_type": "stream",
       "stream": "stdout",
       "text": [
        "\n",
        "3000 records saved"
       ]
      },
      {
       "output_type": "stream",
       "stream": "stdout",
       "text": [
        "\n",
        "3020 records saved"
       ]
      },
      {
       "output_type": "stream",
       "stream": "stdout",
       "text": [
        "\n",
        "3040 records saved"
       ]
      },
      {
       "output_type": "stream",
       "stream": "stdout",
       "text": [
        "\n",
        "3060 records saved"
       ]
      },
      {
       "output_type": "stream",
       "stream": "stdout",
       "text": [
        "\n",
        "3080 records saved"
       ]
      },
      {
       "output_type": "stream",
       "stream": "stdout",
       "text": [
        "\n",
        "3100 records saved"
       ]
      },
      {
       "output_type": "stream",
       "stream": "stdout",
       "text": [
        "\n",
        "3120 records saved"
       ]
      },
      {
       "output_type": "stream",
       "stream": "stdout",
       "text": [
        "\n",
        "3140 records saved"
       ]
      },
      {
       "output_type": "stream",
       "stream": "stdout",
       "text": [
        "\n",
        "3160 records saved"
       ]
      },
      {
       "output_type": "stream",
       "stream": "stdout",
       "text": [
        "\n",
        "3180 records saved"
       ]
      },
      {
       "output_type": "stream",
       "stream": "stdout",
       "text": [
        "\n",
        "3200 records saved"
       ]
      },
      {
       "output_type": "stream",
       "stream": "stdout",
       "text": [
        "\n",
        "3220 records saved"
       ]
      },
      {
       "output_type": "stream",
       "stream": "stdout",
       "text": [
        "\n",
        "3240 records saved"
       ]
      },
      {
       "output_type": "stream",
       "stream": "stdout",
       "text": [
        "\n",
        "3260 records saved"
       ]
      },
      {
       "output_type": "stream",
       "stream": "stdout",
       "text": [
        "\n",
        "3280 records saved"
       ]
      },
      {
       "output_type": "stream",
       "stream": "stdout",
       "text": [
        "\n",
        "3300 records saved"
       ]
      },
      {
       "output_type": "stream",
       "stream": "stdout",
       "text": [
        "\n",
        "3320 records saved"
       ]
      },
      {
       "output_type": "stream",
       "stream": "stdout",
       "text": [
        "\n",
        "3340 records saved"
       ]
      },
      {
       "output_type": "stream",
       "stream": "stdout",
       "text": [
        "\n",
        "3360 records saved"
       ]
      },
      {
       "output_type": "stream",
       "stream": "stdout",
       "text": [
        "\n",
        "3380 records saved"
       ]
      },
      {
       "output_type": "stream",
       "stream": "stdout",
       "text": [
        "\n",
        "3400 records saved"
       ]
      },
      {
       "output_type": "stream",
       "stream": "stdout",
       "text": [
        "\n",
        "3420 records saved"
       ]
      },
      {
       "output_type": "stream",
       "stream": "stdout",
       "text": [
        "\n",
        "3440 records saved"
       ]
      },
      {
       "output_type": "stream",
       "stream": "stdout",
       "text": [
        "\n",
        "3460 records saved"
       ]
      },
      {
       "output_type": "stream",
       "stream": "stdout",
       "text": [
        "\n",
        "3480 records saved"
       ]
      },
      {
       "output_type": "stream",
       "stream": "stdout",
       "text": [
        "\n",
        "3500 records saved"
       ]
      },
      {
       "output_type": "stream",
       "stream": "stdout",
       "text": [
        "\n",
        "3520 records saved"
       ]
      },
      {
       "output_type": "stream",
       "stream": "stdout",
       "text": [
        "\n",
        "3540 records saved"
       ]
      },
      {
       "output_type": "stream",
       "stream": "stdout",
       "text": [
        "\n",
        "3560 records saved"
       ]
      },
      {
       "output_type": "stream",
       "stream": "stdout",
       "text": [
        "\n",
        "3580 records saved"
       ]
      },
      {
       "output_type": "stream",
       "stream": "stdout",
       "text": [
        "\n",
        "3600 records saved"
       ]
      },
      {
       "output_type": "stream",
       "stream": "stdout",
       "text": [
        "\n",
        "3620 records saved"
       ]
      },
      {
       "output_type": "stream",
       "stream": "stdout",
       "text": [
        "\n",
        "3640 records saved"
       ]
      },
      {
       "output_type": "stream",
       "stream": "stdout",
       "text": [
        "\n",
        "3660 records saved"
       ]
      },
      {
       "output_type": "stream",
       "stream": "stdout",
       "text": [
        "\n",
        "3680 records saved"
       ]
      },
      {
       "output_type": "stream",
       "stream": "stdout",
       "text": [
        "\n",
        "3700 records saved"
       ]
      },
      {
       "output_type": "stream",
       "stream": "stdout",
       "text": [
        "\n",
        "3720 records saved"
       ]
      },
      {
       "output_type": "stream",
       "stream": "stdout",
       "text": [
        "\n",
        "3740 records saved"
       ]
      },
      {
       "output_type": "stream",
       "stream": "stdout",
       "text": [
        "\n",
        "3760 records saved"
       ]
      },
      {
       "output_type": "stream",
       "stream": "stdout",
       "text": [
        "\n",
        "3780 records saved"
       ]
      },
      {
       "output_type": "stream",
       "stream": "stdout",
       "text": [
        "\n",
        "3800 records saved"
       ]
      },
      {
       "output_type": "stream",
       "stream": "stdout",
       "text": [
        "\n",
        "3820 records saved"
       ]
      },
      {
       "output_type": "stream",
       "stream": "stdout",
       "text": [
        "\n",
        "3840 records saved"
       ]
      },
      {
       "output_type": "stream",
       "stream": "stdout",
       "text": [
        "\n",
        "3860 records saved"
       ]
      },
      {
       "output_type": "stream",
       "stream": "stdout",
       "text": [
        "\n",
        "3880 records saved"
       ]
      },
      {
       "output_type": "stream",
       "stream": "stdout",
       "text": [
        "\n",
        "3900 records saved"
       ]
      },
      {
       "output_type": "stream",
       "stream": "stdout",
       "text": [
        "\n",
        "3920 records saved"
       ]
      },
      {
       "output_type": "stream",
       "stream": "stdout",
       "text": [
        "\n",
        "3940 records saved"
       ]
      },
      {
       "output_type": "stream",
       "stream": "stdout",
       "text": [
        "\n",
        "3960 records saved"
       ]
      },
      {
       "output_type": "stream",
       "stream": "stdout",
       "text": [
        "\n",
        "3980 records saved"
       ]
      },
      {
       "output_type": "stream",
       "stream": "stdout",
       "text": [
        "\n",
        "4000 records saved"
       ]
      },
      {
       "output_type": "stream",
       "stream": "stdout",
       "text": [
        "\n",
        "4020 records saved"
       ]
      },
      {
       "output_type": "stream",
       "stream": "stdout",
       "text": [
        "\n",
        "4040 records saved"
       ]
      },
      {
       "output_type": "stream",
       "stream": "stdout",
       "text": [
        "\n",
        "4060 records saved"
       ]
      },
      {
       "output_type": "stream",
       "stream": "stdout",
       "text": [
        "\n",
        "4080 records saved"
       ]
      },
      {
       "output_type": "stream",
       "stream": "stdout",
       "text": [
        "\n",
        "4100 records saved"
       ]
      },
      {
       "output_type": "stream",
       "stream": "stdout",
       "text": [
        "\n",
        "4120 records saved"
       ]
      },
      {
       "output_type": "stream",
       "stream": "stdout",
       "text": [
        "\n",
        "4140 records saved"
       ]
      },
      {
       "output_type": "stream",
       "stream": "stdout",
       "text": [
        "\n",
        "4160 records saved"
       ]
      },
      {
       "output_type": "stream",
       "stream": "stdout",
       "text": [
        "\n",
        "4180 records saved"
       ]
      },
      {
       "output_type": "stream",
       "stream": "stdout",
       "text": [
        "\n",
        "4200 records saved"
       ]
      },
      {
       "output_type": "stream",
       "stream": "stdout",
       "text": [
        "\n",
        "4220 records saved"
       ]
      },
      {
       "output_type": "stream",
       "stream": "stdout",
       "text": [
        "\n",
        "4240 records saved"
       ]
      },
      {
       "output_type": "stream",
       "stream": "stdout",
       "text": [
        "\n",
        "4260 records saved"
       ]
      },
      {
       "output_type": "stream",
       "stream": "stdout",
       "text": [
        "\n",
        "4280 records saved"
       ]
      },
      {
       "output_type": "stream",
       "stream": "stdout",
       "text": [
        "\n",
        "4300 records saved"
       ]
      },
      {
       "output_type": "stream",
       "stream": "stdout",
       "text": [
        "\n",
        "4320 records saved"
       ]
      },
      {
       "output_type": "stream",
       "stream": "stdout",
       "text": [
        "\n",
        "4340 records saved"
       ]
      },
      {
       "output_type": "stream",
       "stream": "stdout",
       "text": [
        "\n",
        "4360 records saved"
       ]
      },
      {
       "output_type": "stream",
       "stream": "stdout",
       "text": [
        "\n",
        "4380 records saved"
       ]
      },
      {
       "output_type": "stream",
       "stream": "stdout",
       "text": [
        "\n",
        "4400 records saved"
       ]
      },
      {
       "output_type": "stream",
       "stream": "stdout",
       "text": [
        "\n",
        "4420 records saved"
       ]
      },
      {
       "output_type": "stream",
       "stream": "stdout",
       "text": [
        "\n",
        "4440 records saved"
       ]
      },
      {
       "output_type": "stream",
       "stream": "stdout",
       "text": [
        "\n",
        "4460 records saved"
       ]
      },
      {
       "output_type": "stream",
       "stream": "stdout",
       "text": [
        "\n",
        "4480 records saved"
       ]
      },
      {
       "output_type": "stream",
       "stream": "stdout",
       "text": [
        "\n",
        "4500 records saved"
       ]
      },
      {
       "output_type": "stream",
       "stream": "stdout",
       "text": [
        "\n",
        "4520 records saved"
       ]
      },
      {
       "output_type": "stream",
       "stream": "stdout",
       "text": [
        "\n",
        "4540 records saved"
       ]
      },
      {
       "output_type": "stream",
       "stream": "stdout",
       "text": [
        "\n",
        "4560 records saved"
       ]
      },
      {
       "output_type": "stream",
       "stream": "stdout",
       "text": [
        "\n",
        "4580 records saved"
       ]
      },
      {
       "output_type": "stream",
       "stream": "stdout",
       "text": [
        "\n",
        "4600 records saved"
       ]
      },
      {
       "output_type": "stream",
       "stream": "stdout",
       "text": [
        "\n",
        "4620 records saved"
       ]
      },
      {
       "output_type": "stream",
       "stream": "stdout",
       "text": [
        "\n",
        "4640 records saved"
       ]
      },
      {
       "output_type": "stream",
       "stream": "stdout",
       "text": [
        "\n",
        "4660 records saved"
       ]
      },
      {
       "output_type": "stream",
       "stream": "stdout",
       "text": [
        "\n",
        "4680 records saved"
       ]
      },
      {
       "output_type": "stream",
       "stream": "stdout",
       "text": [
        "\n",
        "4700 records saved"
       ]
      },
      {
       "output_type": "stream",
       "stream": "stdout",
       "text": [
        "\n",
        "4720 records saved"
       ]
      },
      {
       "output_type": "stream",
       "stream": "stdout",
       "text": [
        "\n",
        "4740 records saved"
       ]
      },
      {
       "output_type": "stream",
       "stream": "stdout",
       "text": [
        "\n",
        "4760 records saved"
       ]
      },
      {
       "output_type": "stream",
       "stream": "stdout",
       "text": [
        "\n",
        "4780 records saved"
       ]
      },
      {
       "output_type": "stream",
       "stream": "stdout",
       "text": [
        "\n",
        "4800 records saved"
       ]
      },
      {
       "output_type": "stream",
       "stream": "stdout",
       "text": [
        "\n",
        "4820 records saved"
       ]
      },
      {
       "output_type": "stream",
       "stream": "stdout",
       "text": [
        "\n",
        "4840 records saved"
       ]
      },
      {
       "output_type": "stream",
       "stream": "stdout",
       "text": [
        "\n",
        "4860 records saved"
       ]
      },
      {
       "output_type": "stream",
       "stream": "stdout",
       "text": [
        "\n",
        "4880 records saved"
       ]
      },
      {
       "output_type": "stream",
       "stream": "stdout",
       "text": [
        "\n",
        "4900 records saved"
       ]
      },
      {
       "output_type": "stream",
       "stream": "stdout",
       "text": [
        "\n",
        "4920 records saved"
       ]
      },
      {
       "output_type": "stream",
       "stream": "stdout",
       "text": [
        "\n",
        "4940 records saved"
       ]
      },
      {
       "output_type": "stream",
       "stream": "stdout",
       "text": [
        "\n",
        "4960 records saved"
       ]
      },
      {
       "output_type": "stream",
       "stream": "stdout",
       "text": [
        "\n",
        "4980 records saved"
       ]
      },
      {
       "output_type": "stream",
       "stream": "stdout",
       "text": [
        "\n",
        "5000 records saved"
       ]
      },
      {
       "output_type": "stream",
       "stream": "stdout",
       "text": [
        "\n",
        "5020 records saved"
       ]
      },
      {
       "output_type": "stream",
       "stream": "stdout",
       "text": [
        "\n",
        "5040 records saved"
       ]
      },
      {
       "output_type": "stream",
       "stream": "stdout",
       "text": [
        "\n",
        "5060 records saved"
       ]
      },
      {
       "output_type": "stream",
       "stream": "stdout",
       "text": [
        "\n",
        "5080 records saved"
       ]
      },
      {
       "output_type": "stream",
       "stream": "stdout",
       "text": [
        "\n",
        "5100 records saved"
       ]
      },
      {
       "output_type": "stream",
       "stream": "stdout",
       "text": [
        "\n",
        "5120 records saved"
       ]
      },
      {
       "output_type": "stream",
       "stream": "stdout",
       "text": [
        "\n",
        "5140 records saved"
       ]
      },
      {
       "output_type": "stream",
       "stream": "stdout",
       "text": [
        "\n",
        "5160 records saved"
       ]
      },
      {
       "output_type": "stream",
       "stream": "stdout",
       "text": [
        "\n",
        "5180 records saved"
       ]
      },
      {
       "output_type": "stream",
       "stream": "stdout",
       "text": [
        "\n",
        "5200 records saved"
       ]
      },
      {
       "output_type": "stream",
       "stream": "stdout",
       "text": [
        "\n",
        "5220 records saved"
       ]
      },
      {
       "output_type": "stream",
       "stream": "stdout",
       "text": [
        "\n",
        "5240 records saved"
       ]
      },
      {
       "output_type": "stream",
       "stream": "stdout",
       "text": [
        "\n",
        "5260 records saved"
       ]
      },
      {
       "output_type": "stream",
       "stream": "stdout",
       "text": [
        "\n",
        "5280 records saved"
       ]
      },
      {
       "output_type": "stream",
       "stream": "stdout",
       "text": [
        "\n",
        "5300 records saved"
       ]
      },
      {
       "output_type": "stream",
       "stream": "stdout",
       "text": [
        "\n",
        "5320 records saved"
       ]
      },
      {
       "output_type": "stream",
       "stream": "stdout",
       "text": [
        "\n",
        "5340 records saved"
       ]
      },
      {
       "output_type": "stream",
       "stream": "stdout",
       "text": [
        "\n",
        "5360 records saved"
       ]
      },
      {
       "output_type": "stream",
       "stream": "stdout",
       "text": [
        "\n",
        "5380 records saved"
       ]
      },
      {
       "output_type": "stream",
       "stream": "stdout",
       "text": [
        "\n",
        "5400 records saved"
       ]
      },
      {
       "output_type": "stream",
       "stream": "stdout",
       "text": [
        "\n",
        "5420 records saved"
       ]
      },
      {
       "output_type": "stream",
       "stream": "stdout",
       "text": [
        "\n",
        "5440 records saved"
       ]
      },
      {
       "output_type": "stream",
       "stream": "stdout",
       "text": [
        "\n",
        "5460 records saved"
       ]
      },
      {
       "output_type": "stream",
       "stream": "stdout",
       "text": [
        "\n",
        "5480 records saved"
       ]
      },
      {
       "output_type": "stream",
       "stream": "stdout",
       "text": [
        "\n",
        "5500 records saved"
       ]
      },
      {
       "output_type": "stream",
       "stream": "stdout",
       "text": [
        "\n",
        "5520 records saved"
       ]
      },
      {
       "output_type": "stream",
       "stream": "stdout",
       "text": [
        "\n",
        "5540 records saved"
       ]
      },
      {
       "output_type": "stream",
       "stream": "stdout",
       "text": [
        "\n",
        "5560 records saved"
       ]
      },
      {
       "output_type": "stream",
       "stream": "stdout",
       "text": [
        "\n",
        "5580 records saved"
       ]
      },
      {
       "output_type": "stream",
       "stream": "stdout",
       "text": [
        "\n",
        "5600 records saved"
       ]
      },
      {
       "output_type": "stream",
       "stream": "stdout",
       "text": [
        "\n",
        "5620 records saved"
       ]
      },
      {
       "output_type": "stream",
       "stream": "stdout",
       "text": [
        "\n",
        "5640 records saved"
       ]
      },
      {
       "output_type": "stream",
       "stream": "stdout",
       "text": [
        "\n",
        "5660 records saved"
       ]
      },
      {
       "output_type": "stream",
       "stream": "stdout",
       "text": [
        "\n",
        "5680 records saved"
       ]
      },
      {
       "output_type": "stream",
       "stream": "stdout",
       "text": [
        "\n",
        "5700 records saved"
       ]
      },
      {
       "output_type": "stream",
       "stream": "stdout",
       "text": [
        "\n",
        "5720 records saved"
       ]
      },
      {
       "output_type": "stream",
       "stream": "stdout",
       "text": [
        "\n",
        "5740 records saved"
       ]
      },
      {
       "output_type": "stream",
       "stream": "stdout",
       "text": [
        "\n",
        "5760 records saved"
       ]
      },
      {
       "output_type": "stream",
       "stream": "stdout",
       "text": [
        "\n",
        "5780 records saved"
       ]
      },
      {
       "output_type": "stream",
       "stream": "stdout",
       "text": [
        "\n",
        "5800 records saved"
       ]
      },
      {
       "output_type": "stream",
       "stream": "stdout",
       "text": [
        "\n",
        "5820 records saved"
       ]
      },
      {
       "output_type": "stream",
       "stream": "stdout",
       "text": [
        "\n",
        "5840 records saved"
       ]
      },
      {
       "output_type": "stream",
       "stream": "stdout",
       "text": [
        "\n",
        "5860 records saved"
       ]
      },
      {
       "output_type": "stream",
       "stream": "stdout",
       "text": [
        "\n",
        "5880 records saved"
       ]
      },
      {
       "output_type": "stream",
       "stream": "stdout",
       "text": [
        "\n",
        "5900 records saved"
       ]
      },
      {
       "output_type": "stream",
       "stream": "stdout",
       "text": [
        "\n",
        "5920 records saved"
       ]
      },
      {
       "output_type": "stream",
       "stream": "stdout",
       "text": [
        "\n",
        "5940 records saved"
       ]
      },
      {
       "output_type": "stream",
       "stream": "stdout",
       "text": [
        "\n",
        "5960 records saved"
       ]
      },
      {
       "output_type": "stream",
       "stream": "stdout",
       "text": [
        "\n",
        "5980 records saved"
       ]
      },
      {
       "output_type": "stream",
       "stream": "stdout",
       "text": [
        "\n",
        "6000 records saved"
       ]
      },
      {
       "output_type": "stream",
       "stream": "stdout",
       "text": [
        "\n",
        "6020 records saved"
       ]
      },
      {
       "output_type": "stream",
       "stream": "stdout",
       "text": [
        "\n",
        "6040 records saved"
       ]
      },
      {
       "output_type": "stream",
       "stream": "stdout",
       "text": [
        "\n",
        "6060 records saved"
       ]
      },
      {
       "output_type": "stream",
       "stream": "stdout",
       "text": [
        "\n",
        "6080 records saved"
       ]
      },
      {
       "output_type": "stream",
       "stream": "stdout",
       "text": [
        "\n",
        "6100 records saved"
       ]
      },
      {
       "output_type": "stream",
       "stream": "stdout",
       "text": [
        "\n",
        "6120 records saved"
       ]
      },
      {
       "output_type": "stream",
       "stream": "stdout",
       "text": [
        "\n",
        "6140 records saved"
       ]
      },
      {
       "output_type": "stream",
       "stream": "stdout",
       "text": [
        "\n",
        "6160 records saved"
       ]
      },
      {
       "output_type": "stream",
       "stream": "stdout",
       "text": [
        "\n",
        "6180 records saved"
       ]
      },
      {
       "output_type": "stream",
       "stream": "stdout",
       "text": [
        "\n",
        "6200 records saved"
       ]
      },
      {
       "output_type": "stream",
       "stream": "stdout",
       "text": [
        "\n",
        "6220 records saved"
       ]
      },
      {
       "output_type": "stream",
       "stream": "stdout",
       "text": [
        "\n",
        "6240 records saved"
       ]
      },
      {
       "output_type": "stream",
       "stream": "stdout",
       "text": [
        "\n",
        "6260 records saved"
       ]
      },
      {
       "output_type": "stream",
       "stream": "stdout",
       "text": [
        "\n",
        "6280 records saved"
       ]
      },
      {
       "output_type": "stream",
       "stream": "stdout",
       "text": [
        "\n",
        "6300 records saved"
       ]
      },
      {
       "output_type": "stream",
       "stream": "stdout",
       "text": [
        "\n",
        "6320 records saved"
       ]
      },
      {
       "output_type": "stream",
       "stream": "stdout",
       "text": [
        "\n",
        "6340 records saved"
       ]
      },
      {
       "output_type": "stream",
       "stream": "stdout",
       "text": [
        "\n",
        "6360 records saved"
       ]
      },
      {
       "output_type": "stream",
       "stream": "stdout",
       "text": [
        "\n",
        "6380 records saved"
       ]
      },
      {
       "output_type": "stream",
       "stream": "stdout",
       "text": [
        "\n",
        "6400 records saved"
       ]
      },
      {
       "output_type": "stream",
       "stream": "stdout",
       "text": [
        "\n",
        "6420 records saved"
       ]
      },
      {
       "output_type": "stream",
       "stream": "stdout",
       "text": [
        "\n",
        "6440 records saved"
       ]
      },
      {
       "output_type": "stream",
       "stream": "stdout",
       "text": [
        "\n",
        "6460 records saved"
       ]
      },
      {
       "output_type": "stream",
       "stream": "stdout",
       "text": [
        "\n",
        "6480 records saved"
       ]
      },
      {
       "output_type": "stream",
       "stream": "stdout",
       "text": [
        "\n",
        "6500 records saved"
       ]
      },
      {
       "output_type": "stream",
       "stream": "stdout",
       "text": [
        "\n",
        "6520 records saved"
       ]
      },
      {
       "output_type": "stream",
       "stream": "stdout",
       "text": [
        "\n",
        "6540 records saved"
       ]
      },
      {
       "output_type": "stream",
       "stream": "stdout",
       "text": [
        "\n",
        "6560 records saved"
       ]
      },
      {
       "output_type": "stream",
       "stream": "stdout",
       "text": [
        "\n",
        "6580 records saved"
       ]
      },
      {
       "output_type": "stream",
       "stream": "stdout",
       "text": [
        "\n",
        "6600 records saved"
       ]
      },
      {
       "output_type": "stream",
       "stream": "stdout",
       "text": [
        "\n",
        "6620 records saved"
       ]
      },
      {
       "output_type": "stream",
       "stream": "stdout",
       "text": [
        "\n",
        "6640 records saved"
       ]
      },
      {
       "output_type": "stream",
       "stream": "stdout",
       "text": [
        "\n",
        "6660 records saved"
       ]
      },
      {
       "output_type": "stream",
       "stream": "stdout",
       "text": [
        "\n",
        "6680 records saved"
       ]
      },
      {
       "output_type": "stream",
       "stream": "stdout",
       "text": [
        "\n",
        "6700 records saved"
       ]
      },
      {
       "output_type": "stream",
       "stream": "stdout",
       "text": [
        "\n",
        "6720 records saved"
       ]
      },
      {
       "output_type": "stream",
       "stream": "stdout",
       "text": [
        "\n",
        "6740 records saved"
       ]
      },
      {
       "output_type": "stream",
       "stream": "stdout",
       "text": [
        "\n",
        "6760 records saved"
       ]
      },
      {
       "output_type": "stream",
       "stream": "stdout",
       "text": [
        "\n",
        "6780 records saved"
       ]
      },
      {
       "output_type": "stream",
       "stream": "stdout",
       "text": [
        "\n",
        "6800 records saved"
       ]
      },
      {
       "output_type": "stream",
       "stream": "stdout",
       "text": [
        "\n",
        "6820 records saved"
       ]
      },
      {
       "output_type": "stream",
       "stream": "stdout",
       "text": [
        "\n",
        "6840 records saved"
       ]
      },
      {
       "output_type": "stream",
       "stream": "stdout",
       "text": [
        "\n",
        "6860 records saved"
       ]
      },
      {
       "output_type": "stream",
       "stream": "stdout",
       "text": [
        "\n",
        "6880 records saved"
       ]
      },
      {
       "output_type": "stream",
       "stream": "stdout",
       "text": [
        "\n",
        "6900 records saved"
       ]
      },
      {
       "output_type": "stream",
       "stream": "stdout",
       "text": [
        "\n",
        "6920 records saved"
       ]
      },
      {
       "output_type": "stream",
       "stream": "stdout",
       "text": [
        "\n",
        "6940 records saved"
       ]
      },
      {
       "output_type": "stream",
       "stream": "stdout",
       "text": [
        "\n",
        "6960 records saved"
       ]
      },
      {
       "output_type": "stream",
       "stream": "stdout",
       "text": [
        "\n",
        "6980 records saved"
       ]
      },
      {
       "output_type": "stream",
       "stream": "stdout",
       "text": [
        "\n",
        "7000 records saved"
       ]
      },
      {
       "output_type": "stream",
       "stream": "stdout",
       "text": [
        "\n",
        "7020 records saved"
       ]
      },
      {
       "output_type": "stream",
       "stream": "stdout",
       "text": [
        "\n",
        "7040 records saved"
       ]
      },
      {
       "output_type": "stream",
       "stream": "stdout",
       "text": [
        "\n",
        "7060 records saved"
       ]
      },
      {
       "output_type": "stream",
       "stream": "stdout",
       "text": [
        "\n",
        "7080 records saved"
       ]
      },
      {
       "output_type": "stream",
       "stream": "stdout",
       "text": [
        "\n",
        "7100 records saved"
       ]
      },
      {
       "output_type": "stream",
       "stream": "stdout",
       "text": [
        "\n",
        "7120 records saved"
       ]
      },
      {
       "output_type": "stream",
       "stream": "stdout",
       "text": [
        "\n",
        "7140 records saved"
       ]
      },
      {
       "output_type": "stream",
       "stream": "stdout",
       "text": [
        "\n",
        "7160 records saved"
       ]
      },
      {
       "output_type": "stream",
       "stream": "stdout",
       "text": [
        "\n",
        "7180 records saved"
       ]
      },
      {
       "output_type": "stream",
       "stream": "stdout",
       "text": [
        "\n",
        "7200 records saved"
       ]
      },
      {
       "output_type": "stream",
       "stream": "stdout",
       "text": [
        "\n",
        "7220 records saved"
       ]
      },
      {
       "output_type": "stream",
       "stream": "stdout",
       "text": [
        "\n",
        "7240 records saved"
       ]
      },
      {
       "output_type": "stream",
       "stream": "stdout",
       "text": [
        "\n",
        "7260 records saved"
       ]
      },
      {
       "output_type": "stream",
       "stream": "stdout",
       "text": [
        "\n",
        "7280 records saved"
       ]
      },
      {
       "output_type": "stream",
       "stream": "stdout",
       "text": [
        "\n",
        "7300 records saved"
       ]
      },
      {
       "output_type": "stream",
       "stream": "stdout",
       "text": [
        "\n",
        "7320 records saved"
       ]
      },
      {
       "output_type": "stream",
       "stream": "stdout",
       "text": [
        "\n",
        "7328 records saved"
       ]
      },
      {
       "output_type": "stream",
       "stream": "stdout",
       "text": [
        "\n",
        "done"
       ]
      },
      {
       "output_type": "stream",
       "stream": "stdout",
       "text": [
        "\n"
       ]
      }
     ],
     "prompt_number": 36
    },
    {
     "cell_type": "raw",
     "metadata": {},
     "source": [
      "Extract the list of actors (valid dbpedia entities) involved in each automobile_events.\n",
      "Extracted data is put into a dictionary, where\n",
      "keys = URL of event\n",
      "values = actors involved with each event"
     ]
    },
    {
     "cell_type": "code",
     "collapsed": false,
     "input": [
      "automobile_events_urls = {}\n",
      "\n",
      "for ld in automobile_events:\n",
      "    evurl = ld[\"event\"].replace(\"#\", \"%23\")\n",
      "    eurl = \"https://newsreader.scraperwiki.com/describe_uri?uris.0=\"+evurl+\"&output=json\"\n",
      "    r = requests.get(eurl)\n",
      "    try:\n",
      "        pg = r.json()[\"payload\"]\n",
      "    except:\n",
      "        continue\n",
      "    g = pg[\"@graph\"]\n",
      "    actors = [ ]\n",
      "    for lg in g:\n",
      "        la = lg.get(\"sem:hasActor\")\n",
      "        if type(la) is dict:\n",
      "            actors.append(la[\"@id\"])\n",
      "        elif type(la) is list:\n",
      "            actors.extend([ a[\"@id\"]  for a in la ])\n",
      "    dbactors = [ a[8:]  for a in actors  if a[:8] == \"dbpedia:\" ]\n",
      "    \n",
      "    automobile_events_urls[ld[\"event\"]] = dbactors"
     ],
     "language": "python",
     "metadata": {},
     "outputs": [],
     "prompt_number": 39
    },
    {
     "cell_type": "code",
     "collapsed": false,
     "input": [
      "#Sneak peek into automobile_events_urls\n",
      "automobile_events_urls.items()[:10]"
     ],
     "language": "python",
     "metadata": {},
     "outputs": [
      {
       "metadata": {},
       "output_type": "pyout",
       "prompt_number": 40,
       "text": [
        "[(u'http://www.newsreader-project.eu/LNdata/hackathon/2011/12/10/54FG-6V11-JCC9-V2J9.xml#blackburnEvent',\n",
        "  [u'SS_1']),\n",
        " (u'http://www.newsreader-project.eu/LNdata/hackathon/2012/09/19/56M7-79N1-JC13-H0P9.xml#vehicleEvent',\n",
        "  [u'Kia_Carens', u'Rajon_Rondo']),\n",
        " (u'http://www.newsreader-project.eu/LNdata/hackathon/2011/09/16/53T5-VS51-F0JP-W305.xml#driveEvent',\n",
        "  [u'David_Cameron', u'Mini']),\n",
        " (u'http://www.newsreader-project.eu/LNdata/hackathon/2013/02/28/57VM-JGC1-JDKC-R0JW.xml#handEvent',\n",
        "  [u'Lexus_LFA']),\n",
        " (u'http://www.theguardian.com/sport/2009/may/29/digger-falcon-portsmouth-west-ham#declareEvent',\n",
        "  [u'Ford_Falcon_(Australia)']),\n",
        " (u'http://www.newsreader-project.eu/LNdata/hackathon/2006/01/19/4J2Y-T480-TX4Y-73DD.xml#limousineEvent',\n",
        "  [u'Lincoln_Town_Car']),\n",
        " (u'http://www.newsreader-project.eu/LNdata/hackathon/2011/01/18/51YY-HVV1-F0JP-W28G.xml#sellEvent',\n",
        "  [u'David_Beckham', u'EBay', u'Porsche', u'Porsche_911']),\n",
        " (u'http://www.newsreader-project.eu/LNdata/hackathon/2013/09/11/59B6-6K01-DYR8-322N.xml#fearEvent',\n",
        "  [u'Lexus_LFA']),\n",
        " (u'http://www.newsreader-project.eu/LNdata/hackathon/2014/03/31/5BW3-VYS1-JDVB-60M9.xml#hitEvent',\n",
        "  [u'Mini']),\n",
        " (u'http://www.newsreader-project.eu/LNdata/hackathon/2006/07/03/4KB0-63T0-TW87-N38T.xml#driveEvent',\n",
        "  [u'Volkswagen_Polo'])]"
       ]
      }
     ],
     "prompt_number": 40
    },
    {
     "cell_type": "code",
     "collapsed": false,
     "input": [
      "# Extract soccer player names into list\n",
      "soccer_players_names = []\n",
      "for i in soccer_players_events:\n",
      "    soccer_players_names.append( i['actor'].rsplit('/',1)[1] )"
     ],
     "language": "python",
     "metadata": {},
     "outputs": [],
     "prompt_number": 42
    },
    {
     "cell_type": "raw",
     "metadata": {},
     "source": [
      "Find valid events that mention both automobiles and soccer players and return into a new list called \"valid_events\". This is achieved by ignoring all events that only has one actor, and for any event with 2+ actors, see if it contains any of the soccer players in the list soccer_players_names."
     ]
    },
    {
     "cell_type": "code",
     "collapsed": false,
     "input": [
      "valid_events = []\n",
      "for k, v in automobile_events_urls.items():\n",
      "    if len(v)==1:\n",
      "        pass\n",
      "    else:\n",
      "        for item in v:\n",
      "            if item in soccer_players_names:\n",
      "                valid_events.append(k)\n",
      "            else:\n",
      "                pass"
     ],
     "language": "python",
     "metadata": {},
     "outputs": [],
     "prompt_number": 43
    },
    {
     "cell_type": "code",
     "collapsed": false,
     "input": [
      "len(valid_events)"
     ],
     "language": "python",
     "metadata": {},
     "outputs": [
      {
       "metadata": {},
       "output_type": "pyout",
       "prompt_number": 44,
       "text": [
        "135"
       ]
      }
     ],
     "prompt_number": 44
    },
    {
     "cell_type": "code",
     "collapsed": false,
     "input": [
      "valid_events"
     ],
     "language": "python",
     "metadata": {},
     "outputs": [
      {
       "metadata": {},
       "output_type": "pyout",
       "prompt_number": 45,
       "text": [
        "[u'http://www.newsreader-project.eu/LNdata/hackathon/2011/01/18/51YY-HVV1-F0JP-W28G.xml#sellEvent',\n",
        " u'http://www.newsreader-project.eu/LNdata/hackathon/2005/04/26/4G1R-8P60-02CB-G061.xml#preventEvent',\n",
        " u'http://www.newsreader-project.eu/LNdata/hackathon/2013/10/09/59J6-GX91-F03R-N2SP.xml#getEvent',\n",
        " u'http://www.newsreader-project.eu/LNdata/hackathon/2013/10/09/59J6-GX91-F03R-N2SP.xml#getEvent',\n",
        " u'http://www.newsreader-project.eu/LNdata/hackathon/2013/10/09/59J6-GX91-F03R-N2SP.xml#getEvent',\n",
        " u'http://www.newsreader-project.eu/LNdata/hackathon/2013/10/09/59J6-GX91-F03R-N2SP.xml#getEvent',\n",
        " u'http://www.newsreader-project.eu/LNdata/hackathon/2013/10/09/59J6-GX91-F03R-N2SP.xml#getEvent',\n",
        " u'http://news.bbc.co.uk/sport2/hi/football/africa/9299685.stm#winEvent',\n",
        " u'http://www.newsreader-project.eu/LNdata/hackathon/2012/05/05/55JV-7J71-JBKR-P3NF.xml#haveEvent',\n",
        " u'http://www.newsreader-project.eu/LNdata/hackathon/2012/10/04/56R7-0JR1-JCRS-G4YF.xml#getEvent',\n",
        " u'http://www.newsreader-project.eu/LNdata/hackathon/2014/01/04/5B6P-8CK1-JBVM-Y467.xml#claimEvent',\n",
        " u'http://www.newsreader-project.eu/LNdata/hackathon/2013/09/08/599T-7PR1-JC86-C0JD.xml#haveEvent',\n",
        " u'http://www.newsreader-project.eu/LNdata/hackathon/2013/09/08/599T-7PR1-JC86-C0JD.xml#haveEvent',\n",
        " u'http://www.newsreader-project.eu/LNdata/hackathon/2013/09/08/599T-7PR1-JC86-C0JD.xml#haveEvent',\n",
        " u'http://www.newsreader-project.eu/LNdata/hackathon/2005/12/12/4HSR-NVP0-TX52-H2N4.xml#playEvent',\n",
        " u'http://www.newsreader-project.eu/LNdata/hackathon/2005/12/12/4HSR-NVP0-TX52-H2N4.xml#playEvent',\n",
        " u'http://www.newsreader-project.eu/LNdata/hackathon/2005/12/12/4HSR-NVP0-TX52-H2N4.xml#playEvent',\n",
        " u'http://www.newsreader-project.eu/LNdata/hackathon/2011/07/22/53D3-MFN1-JB2D-503C.xml#makeEvent',\n",
        " u'http://www.newsreader-project.eu/LNdata/hackathon/2011/07/22/53D3-MFN1-JB2D-503C.xml#makeEvent',\n",
        " u'http://www.newsreader-project.eu/LNdata/hackathon/2011/07/22/53D3-MFN1-JB2D-503C.xml#makeEvent',\n",
        " u'http://www.newsreader-project.eu/LNdata/hackathon/2010/06/09/7YNF-WS20-YB69-H47S.xml#kickEvent',\n",
        " u'http://www.newsreader-project.eu/LNdata/hackathon/2012/10/11/56SX-KCX1-DY2M-33R5.xml#lookEvent',\n",
        " u'http://www.newsreader-project.eu/LNdata/hackathon/2012/10/11/56SX-KCX1-DY2M-33R5.xml#lookEvent',\n",
        " u'http://www.newsreader-project.eu/LNdata/hackathon/2012/10/11/56SX-KCX1-DY2M-33R5.xml#lookEvent',\n",
        " u'http://www.newsreader-project.eu/LNdata/hackathon/2013/10/23/59N4-WGT1-JCMN-Y556.xml#haveEvent',\n",
        " u'http://www.newsreader-project.eu/LNdata/hackathon/2013/10/23/59N4-WGT1-JCMN-Y556.xml#haveEvent',\n",
        " u'http://www.newsreader-project.eu/LNdata/hackathon/2011/08/05/53GJ-KPV1-DYTG-N23J.xml#workEvent',\n",
        " u'http://www.newsreader-project.eu/LNdata/hackathon/2005/04/26/4G1R-8P60-02CB-G061.xml#roadEvent',\n",
        " u'http://www.newsreader-project.eu/LNdata/hackathon/2013/06/25/58RT-FD01-JBJ4-20RG.xml#goEvent',\n",
        " u'http://www.newsreader-project.eu/LNdata/hackathon/2005/04/26/4G1R-8P60-02CB-G061.xml#accommodateEvent',\n",
        " u'http://www.newsreader-project.eu/LNdata/hackathon/2012/08/04/568W-VJD1-DYTM-91JH.xml#driveEvent',\n",
        " u'http://www.newsreader-project.eu/LNdata/hackathon/2013/07/12/58W6-0C61-DYR8-34BF.xml#haveEvent',\n",
        " u'http://www.newsreader-project.eu/LNdata/hackathon/2013/07/12/58W6-0C61-DYR8-34BF.xml#haveEvent',\n",
        " u'http://www.newsreader-project.eu/LNdata/hackathon/2009/01/31/4VHB-7NT0-TWCW-40T6.xml#signEvent',\n",
        " u'http://news.bbc.co.uk/sport2/hi/football/euro_2004/france/players_to_watch/3670395.stm#giveEvent',\n",
        " u'http://www.newsreader-project.eu/LNdata/hackathon/2005/04/26/4G1R-8P60-02CB-G061.xml#refuseEvent',\n",
        " u'http://www.newsreader-project.eu/LNdata/hackathon/2010/09/21/5136-D8M1-JB2D-5008.xml#goEvent',\n",
        " u'http://www.newsreader-project.eu/LNdata/hackathon/2006/06/25/4K8R-0840-TX4X-W3CX.xml#plantEvent',\n",
        " u'http://www.newsreader-project.eu/LNdata/hackathon/2013/09/08/599S-T3G1-F08V-6564.xml#haveEvent',\n",
        " u'http://www.newsreader-project.eu/LNdata/hackathon/2012/12/31/57CY-M4H1-DYTP-P2XH.xml#leadEvent',\n",
        " u'http://www.newsreader-project.eu/LNdata/hackathon/2013/04/24/5947-PJ61-JCF1-11JP.xml#buyEvent',\n",
        " u'http://www.theguardian.com/football/2010/nov/24/the-fiver-real-madrid-reds#pointEvent',\n",
        " u'http://www.newsreader-project.eu/LNdata/hackathon/2005/04/26/4G1R-8P60-02CB-G061.xml#decideEvent',\n",
        " u'http://www.newsreader-project.eu/LNdata/hackathon/2013/08/02/56JX-T061-J9XT-P140.xml#getEvent',\n",
        " u'http://www.theguardian.com/football/2008/jun/02/thefiver.sport#haveEvent',\n",
        " u'http://www.newsreader-project.eu/LNdata/hackathon/2011/05/06/52T6-XBM1-JCV0-111W.xml#sayEvent',\n",
        " u'http://www.newsreader-project.eu/LNdata/hackathon/2013/06/05/58K8-6FH1-DXYN-60TV.xml#haveEvent',\n",
        " u'http://www.newsreader-project.eu/LNdata/hackathon/2013/06/05/58K8-6FH1-DXYN-60TV.xml#haveEvent',\n",
        " u'http://www.newsreader-project.eu/LNdata/hackathon/2014/01/15/5B8V-VV11-F0JP-W021.xml#haveEvent',\n",
        " u'http://www.newsreader-project.eu/LNdata/hackathon/2014/01/15/5B8V-VV11-F0JP-W021.xml#haveEvent',\n",
        " u'http://www.newsreader-project.eu/LNdata/hackathon/2014/01/15/5B8V-VV11-F0JP-W021.xml#haveEvent',\n",
        " u'http://www.newsreader-project.eu/LNdata/hackathon/2014/01/15/5B8V-VV11-F0JP-W021.xml#haveEvent',\n",
        " u'http://www.newsreader-project.eu/LNdata/hackathon/2014/01/15/5B8V-VV11-F0JP-W021.xml#haveEvent',\n",
        " u'http://www.newsreader-project.eu/LNdata/hackathon/2014/01/15/5B8V-VV11-F0JP-W021.xml#haveEvent',\n",
        " u'http://www.newsreader-project.eu/LNdata/hackathon/2014/01/15/5B8V-VV11-F0JP-W021.xml#haveEvent',\n",
        " u'http://www.newsreader-project.eu/LNdata/hackathon/2014/01/15/5B8V-VV11-F0JP-W021.xml#haveEvent',\n",
        " u'http://www.newsreader-project.eu/LNdata/hackathon/2005/04/26/4G1R-8P60-02CB-G061.xml#appointEvent',\n",
        " u'http://www.theguardian.com/football/2000/dec/15/sport.comment#involveEvent',\n",
        " u'http://www.newsreader-project.eu/LNdata/hackathon/2012/12/31/57CY-M4H1-DYTP-P2XH.xml#appointEvent',\n",
        " u'http://www.newsreader-project.eu/LNdata/hackathon/2010/08/06/54MV-RCF1-F198-M1HG.xml#sayEvent',\n",
        " u'http://www.newsreader-project.eu/LNdata/hackathon/2006/06/22/4K7P-S950-TWK1-C1PY.xml#wantEvent',\n",
        " u'http://www.newsreader-project.eu/LNdata/hackathon/2011/06/04/531C-1FG1-JBGK-G22V.xml#haveEvent',\n",
        " u'http://www.newsreader-project.eu/LNdata/hackathon/2011/06/04/531C-1FG1-JBGK-G22V.xml#haveEvent',\n",
        " u'http://www.newsreader-project.eu/LNdata/hackathon/2011/06/04/531C-1FG1-JBGK-G22V.xml#haveEvent',\n",
        " u'http://www.newsreader-project.eu/LNdata/hackathon/2011/06/04/531C-1FG1-JBGK-G22V.xml#haveEvent',\n",
        " u'http://www.newsreader-project.eu/LNdata/hackathon/2011/06/04/531C-1FG1-JBGK-G22V.xml#haveEvent',\n",
        " u'http://www.newsreader-project.eu/LNdata/hackathon/2011/06/04/531C-1FG1-JBGK-G22V.xml#haveEvent',\n",
        " u'http://www.newsreader-project.eu/LNdata/hackathon/2011/06/04/531C-1FG1-JBGK-G22V.xml#haveEvent',\n",
        " u'http://www.newsreader-project.eu/LNdata/hackathon/2011/01/17/51YR-3PY1-F072-44VR.xml#getEvent',\n",
        " u'http://www.theguardian.com/football/2006/may/10/theknowledge.sport#joinEvent',\n",
        " u'http://www.newsreader-project.eu/LNdata/hackathon/2004/11/24/4DW1-CH40-00JR-G2M1.xml#getEvent',\n",
        " u'http://www.newsreader-project.eu/LNdata/hackathon/2013/11/06/59SB-PJD1-JC86-C0D1.xml#haveEvent',\n",
        " u'http://news.bbc.co.uk/sport2/hi/front_page/9662373.stm#continueEvent',\n",
        " u'http://www.newsreader-project.eu/LNdata/hackathon/2005/04/26/4G1R-8P60-02CB-G061.xml#honorEvent',\n",
        " u'http://www.newsreader-project.eu/LNdata/hackathon/2004/07/12/4CV8-N3F0-0040-T22J.xml#seeEvent',\n",
        " u'http://www.theguardian.com/sport/2012/dec/04/beckham-us-la-galaxy-win#windowEvent',\n",
        " u'http://www.newsreader-project.eu/LNdata/hackathon/2007/09/15/4PNS-M100-TWMB-300C.xml#haveEvent',\n",
        " u'http://www.newsreader-project.eu/LNdata/hackathon/2007/09/15/4PNS-M100-TWMB-300C.xml#haveEvent',\n",
        " u'http://www.newsreader-project.eu/LNdata/hackathon/2005/12/07/4HRM-FB60-TW8F-G31K.xml#sayEvent',\n",
        " u'http://www.newsreader-project.eu/LNdata/hackathon/2005/12/07/4HRM-FB60-TW8F-G31K.xml#sayEvent',\n",
        " u'http://www.theguardian.com/football/2010/dec/08/england-2018-bid-bbc-statement#believeEvent',\n",
        " u'http://www.newsreader-project.eu/LNdata/hackathon/2013/11/29/59Y2-HHY1-J9YR-G134.xml#haveEvent',\n",
        " u'http://www.newsreader-project.eu/LNdata/hackathon/2013/11/29/59Y2-HHY1-J9YR-G134.xml#haveEvent',\n",
        " u'http://www.newsreader-project.eu/LNdata/hackathon/2013/11/29/59Y2-HHY1-J9YR-G134.xml#haveEvent',\n",
        " u'http://www.newsreader-project.eu/LNdata/hackathon/2011/07/04/537S-50K1-DY91-H1X6.xml#goEvent',\n",
        " u'http://www.newsreader-project.eu/LNdata/hackathon/2005/08/08/4GTX-2B50-02CB-G0G5.xml#wantEvent',\n",
        " u'http://www.newsreader-project.eu/LNdata/hackathon/2005/08/08/4GTX-2B50-02CB-G0G5.xml#wantEvent',\n",
        " u'http://www.newsreader-project.eu/LNdata/hackathon/2010/07/14/7YY9-75H0-Y958-C2R0.xml#getEvent',\n",
        " u'http://www.newsreader-project.eu/LNdata/hackathon/2005/04/26/4G1R-8P60-02CB-G061.xml#becomeEvent',\n",
        " u'http://www.newsreader-project.eu/LNdata/hackathon/2014/02/01/5BDN-W011-JCV0-14FT.xml#haveEvent',\n",
        " u'http://www.newsreader-project.eu/LNdata/hackathon/2005/04/26/4G1R-8P60-02CB-G061.xml#eyeEvent',\n",
        " u'http://www.theguardian.com/football/2010/nov/23/england-world-cup-bid-spain#tellEvent',\n",
        " u'http://www.theguardian.com/football/2010/nov/23/england-world-cup-bid-spain#tellEvent',\n",
        " u'http://www.newsreader-project.eu/LNdata/hackathon/2005/09/06/4H20-VKB0-TWCX-R215.xml#haveEvent',\n",
        " u'http://www.newsreader-project.eu/LNdata/hackathon/2005/09/06/4H20-VKB0-TWCX-R215.xml#haveEvent',\n",
        " u'http://www.newsreader-project.eu/LNdata/hackathon/2005/01/17/4F8H-MC10-TW84-N2JS.xml#getEvent',\n",
        " u'http://www.theguardian.com/football/2009/jan/31/chelsea-frank-lampard-liverpool#sayEvent',\n",
        " u'http://www.theguardian.com/football/2009/jan/31/chelsea-frank-lampard-liverpool#sayEvent',\n",
        " u'http://www.newsreader-project.eu/LNdata/hackathon/2005/04/10/4FXH-JGJ0-02CB-G0DB.xml#draftEvent',\n",
        " u'http://www.theguardian.com/sport/blog/2009/oct/16/today-in-sport-16-october#lookEvent',\n",
        " u'http://www.theguardian.com/sport/blog/2009/oct/16/today-in-sport-16-october#lookEvent',\n",
        " u'http://www.theguardian.com/football/2009/sep/22/joe-cole-comeback-carling-cup#haveEvent',\n",
        " u'http://www.newsreader-project.eu/LNdata/hackathon/2005/04/26/4G1R-8P60-02CB-G061.xml#qualificationEvent',\n",
        " u'http://www.newsreader-project.eu/LNdata/hackathon/2010/09/21/5136-D8M1-JB2D-5008.xml#competeEvent',\n",
        " u'http://www.newsreader-project.eu/LNdata/hackathon/2013/04/24/588P-83C1-JC86-C3JG.xml#haveEvent',\n",
        " u'http://www.newsreader-project.eu/LNdata/hackathon/2013/04/24/588P-83C1-JC86-C3JG.xml#haveEvent',\n",
        " u'http://www.newsreader-project.eu/LNdata/hackathon/2013/04/24/588P-83C1-JC86-C3JG.xml#haveEvent',\n",
        " u'http://www.newsreader-project.eu/LNdata/hackathon/2013/04/24/588P-83C1-JC86-C3JG.xml#haveEvent',\n",
        " u'http://www.newsreader-project.eu/LNdata/hackathon/2013/04/24/588P-83C1-JC86-C3JG.xml#haveEvent',\n",
        " u'http://www.newsreader-project.eu/LNdata/hackathon/2014/03/10/5BPM-8961-J9YR-G54G.xml#investEvent',\n",
        " u'http://www.theguardian.com/football/2006/may/01/newsstory.sport3#playEvent',\n",
        " u'http://www.theguardian.com/football/2006/may/01/newsstory.sport3#playEvent',\n",
        " u'http://www.theguardian.com/football/2006/may/01/newsstory.sport3#playEvent',\n",
        " u'http://www.theguardian.com/football/2006/may/01/newsstory.sport3#playEvent',\n",
        " u'http://www.newsreader-project.eu/LNdata/hackathon/2007/05/05/4NN8-NHF0-TX52-R38N.xml#careerEvent',\n",
        " u'http://www.newsreader-project.eu/LNdata/hackathon/2009/10/18/7WWJ-GMG1-2RR2-D0P8.xml#scoreEvent',\n",
        " u'http://www.newsreader-project.eu/LNdata/hackathon/2009/10/18/7WWJ-GMG1-2RR2-D0P8.xml#scoreEvent',\n",
        " u'http://www.newsreader-project.eu/LNdata/hackathon/2005/12/12/4HSY-1GM0-TX4X-W1YV.xml#haveEvent',\n",
        " u'http://www.newsreader-project.eu/LNdata/hackathon/2005/12/12/4HSY-1GM0-TX4X-W1YV.xml#haveEvent',\n",
        " u'http://www.newsreader-project.eu/LNdata/hackathon/2005/12/12/4HSY-1GM0-TX4X-W1YV.xml#haveEvent',\n",
        " u'http://www.theguardian.com/football/2010/jul/15/fa-world-cup-2018-bid#makeEvent',\n",
        " u'http://www.newsreader-project.eu/LNdata/hackathon/2011/05/04/52SV-8PC1-F19D-C1G5.xml#leaveEvent',\n",
        " u'http://www.newsreader-project.eu/LNdata/hackathon/2005/09/22/4H5C-R2C0-TWMB-334R.xml#haveEvent',\n",
        " u'http://www.newsreader-project.eu/LNdata/hackathon/2005/09/22/4H5C-R2C0-TWMB-334R.xml#haveEvent',\n",
        " u'http://www.newsreader-project.eu/LNdata/hackathon/2013/04/09/585B-C631-JCV0-12YF.xml#winEvent',\n",
        " u'http://www.newsreader-project.eu/LNdata/hackathon/2012/10/04/56R8-5PW1-DYR8-3240.xml#getEvent',\n",
        " u'http://www.theguardian.com/football/2004/may/21/newsstory.sport19#haveEvent',\n",
        " u'http://www.theguardian.com/football/2004/may/21/newsstory.sport19#haveEvent',\n",
        " u'http://www.theguardian.com/football/2004/may/21/newsstory.sport19#haveEvent',\n",
        " u'http://www.newsreader-project.eu/LNdata/hackathon/2004/11/24/4DW1-CH40-00JR-G2M1.xml#nameEvent',\n",
        " u'http://www.newsreader-project.eu/LNdata/hackathon/2004/10/12/4DHX-61T0-010F-62C6.xml#sayEvent',\n",
        " u'http://www.newsreader-project.eu/LNdata/hackathon/2013/06/25/593M-V771-JCF1-14RJ.xml#goEvent',\n",
        " u'http://www.newsreader-project.eu/LNdata/hackathon/2011/06/27/5368-PH71-DY2M-W4PD.xml#haveEvent',\n",
        " u'http://www.newsreader-project.eu/LNdata/hackathon/2011/06/27/5368-PH71-DY2M-W4PD.xml#haveEvent',\n",
        " u'http://www.newsreader-project.eu/LNdata/hackathon/2011/06/27/5368-PH71-DY2M-W4PD.xml#haveEvent']"
       ]
      }
     ],
     "prompt_number": 45
    }
   ],
   "metadata": {}
  }
 ]
}